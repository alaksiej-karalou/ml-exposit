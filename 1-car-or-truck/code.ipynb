{
 "cells": [
  {
   "cell_type": "markdown",
   "metadata": {},
   "source": [
    "# Initializing"
   ]
  },
  {
   "cell_type": "code",
   "execution_count": null,
   "metadata": {},
   "outputs": [],
   "source": []
  },
  {
   "cell_type": "code",
   "execution_count": 18,
   "metadata": {},
   "outputs": [
    {
     "data": {
      "text/plain": [
       "'.\\\\input\\\\valid'"
      ]
     },
     "execution_count": 18,
     "metadata": {},
     "output_type": "execute_result"
    }
   ],
   "source": [
    "import os\n",
    "\n",
    "INPUT_DIR = os.path.join('.','input')\n",
    "TRAIN_DIR=os.path.join(INPUT_DIR,'train')\n",
    "VALID_DIR=os.path.join(INPUT_DIR,'valid')\n",
    "VALID_DIR"
   ]
  },
  {
   "cell_type": "code",
   "execution_count": null,
   "metadata": {},
   "outputs": [],
   "source": []
  },
  {
   "cell_type": "code",
   "execution_count": 1,
   "metadata": {},
   "outputs": [
    {
     "name": "stdout",
     "output_type": "stream",
     "text": [
      "Found 5117 files belonging to 2 classes.\n",
      "Found 5051 files belonging to 2 classes.\n"
     ]
    }
   ],
   "source": [
    "import os, warnings\n",
    "import matplotlib.pyplot as plt\n",
    "from matplotlib import gridspec\n",
    "\n",
    "import numpy as np\n",
    "import tensorflow as tf\n",
    "from tensorflow.keras.utils import image_dataset_from_directory\n",
    "\n",
    "ds_train = image_dataset_from_directory(\n",
    "    'input/train',\n",
    "    labels = 'inferred',\n",
    "    label_mode = 'binary',\n",
    "    image_size = [128, 128],\n",
    "    interpolation = 'nearest',\n",
    "    batch_size = 64,\n",
    "    shuffle = True,\n",
    ").cache()\n",
    "\n",
    "ds_valid = image_dataset_from_directory(\n",
    "    'input/valid',\n",
    "    labels = 'inferred',\n",
    "    label_mode = 'binary',\n",
    "    image_size = [128, 128],\n",
    "    interpolation = 'nearest',\n",
    "    batch_size = 64,\n",
    "    shuffle = False,\n",
    ").cache()\n",
    "\n",
    "def convert_to_float(image, label):\n",
    "    image = tf.image.convert_image_dtype(image, dtype=tf.float32)\n",
    "    return image, label\n",
    "\n",
    "AUTOTUNE = tf.data.experimental.AUTOTUNE\n",
    "ds_train = (\n",
    "    ds_train\n",
    "    .map(convert_to_float)\n",
    "    .cache()\n",
    "    .prefetch(buffer_size=AUTOTUNE)\n",
    ")\n",
    "ds_valid = (\n",
    "    ds_valid\n",
    "    .map(convert_to_float)\n",
    "    .cache()\n",
    "    .prefetch(buffer_size=AUTOTUNE)\n",
    ")\n"
   ]
  },
  {
   "cell_type": "code",
   "execution_count": 2,
   "metadata": {
    "scrolled": true
   },
   "outputs": [],
   "source": [
    "from tensorflow import keras\n",
    "from tensorflow.keras import layers\n",
    "\n",
    "from tensorflow.keras.layers.experimental import preprocessing\n",
    "\n",
    "model = keras.Sequential([\n",
    "    preprocessing.RandomFlip('horizontal'),\n",
    "    preprocessing.RandomContrast(0.5),\n",
    "    preprocessing.RandomZoom(0.1),\n",
    "    \n",
    "    layers.Conv2D(filters=32, kernel_size=5, activation=\"relu\", padding='same',\n",
    "                  input_shape=[128, 128, 3]),\n",
    "    layers.MaxPool2D(),\n",
    "\n",
    "    layers.Conv2D(filters=64, kernel_size=3, activation=\"relu\", padding='same'),\n",
    "    layers.MaxPool2D(),\n",
    "\n",
    "    layers.Conv2D(filters=128, kernel_size=3, activation=\"relu\", padding='same'),\n",
    "    layers.MaxPool2D(),\n",
    "    \n",
    "    layers.Conv2D(filters=256, kernel_size=3, activation=\"relu\", padding='same'),\n",
    "    layers.MaxPool2D(),\n",
    "\n",
    "    layers.Flatten(),\n",
    "    layers.Dense(units=16, activation=\"relu\"),\n",
    "    layers.Dense(units=1, activation=\"sigmoid\"),\n",
    "])"
   ]
  },
  {
   "cell_type": "code",
   "execution_count": 3,
   "metadata": {},
   "outputs": [
    {
     "name": "stdout",
     "output_type": "stream",
     "text": [
      "Epoch 1/25\n",
      "80/80 [==============================] - 40s 226ms/step - loss: 0.6656 - binary_accuracy: 0.5753 - val_loss: 0.6371 - val_binary_accuracy: 0.5785\n",
      "Epoch 2/25\n",
      "80/80 [==============================] - 12s 153ms/step - loss: 0.6447 - binary_accuracy: 0.6218 - val_loss: 0.6157 - val_binary_accuracy: 0.6569\n",
      "Epoch 3/25\n",
      "80/80 [==============================] - 12s 152ms/step - loss: 0.6059 - binary_accuracy: 0.6762 - val_loss: 0.5778 - val_binary_accuracy: 0.7119\n",
      "Epoch 4/25\n",
      "80/80 [==============================] - 12s 153ms/step - loss: 0.5931 - binary_accuracy: 0.6922 - val_loss: 0.5693 - val_binary_accuracy: 0.7044\n",
      "Epoch 5/25\n",
      "80/80 [==============================] - 12s 153ms/step - loss: 0.5581 - binary_accuracy: 0.7274 - val_loss: 0.5265 - val_binary_accuracy: 0.7662\n",
      "Epoch 6/25\n",
      "80/80 [==============================] - 12s 154ms/step - loss: 0.5276 - binary_accuracy: 0.7639 - val_loss: 0.5110 - val_binary_accuracy: 0.7808\n",
      "Epoch 7/25\n",
      "80/80 [==============================] - 12s 156ms/step - loss: 0.4940 - binary_accuracy: 0.7901 - val_loss: 0.4773 - val_binary_accuracy: 0.8155\n",
      "Epoch 8/25\n",
      "80/80 [==============================] - 12s 155ms/step - loss: 0.4547 - binary_accuracy: 0.8190 - val_loss: 0.4559 - val_binary_accuracy: 0.8309\n",
      "Epoch 9/25\n",
      "80/80 [==============================] - 12s 155ms/step - loss: 0.4413 - binary_accuracy: 0.8245 - val_loss: 0.4370 - val_binary_accuracy: 0.8351\n",
      "Epoch 10/25\n",
      "80/80 [==============================] - 12s 155ms/step - loss: 0.3994 - binary_accuracy: 0.8585 - val_loss: 0.4033 - val_binary_accuracy: 0.8582\n",
      "Epoch 11/25\n",
      "80/80 [==============================] - 12s 156ms/step - loss: 0.3846 - binary_accuracy: 0.8661 - val_loss: 0.4167 - val_binary_accuracy: 0.8553\n",
      "Epoch 12/25\n",
      "80/80 [==============================] - 12s 156ms/step - loss: 0.3718 - binary_accuracy: 0.8685 - val_loss: 0.3840 - val_binary_accuracy: 0.8709\n",
      "Epoch 13/25\n",
      "80/80 [==============================] - 12s 156ms/step - loss: 0.3551 - binary_accuracy: 0.8837 - val_loss: 0.4051 - val_binary_accuracy: 0.8343\n",
      "Epoch 14/25\n",
      "80/80 [==============================] - 13s 157ms/step - loss: 0.3286 - binary_accuracy: 0.8923 - val_loss: 0.4175 - val_binary_accuracy: 0.8666\n",
      "Epoch 15/25\n",
      "80/80 [==============================] - 13s 157ms/step - loss: 0.3109 - binary_accuracy: 0.9011 - val_loss: 0.3390 - val_binary_accuracy: 0.8889\n",
      "Epoch 16/25\n",
      "80/80 [==============================] - 12s 157ms/step - loss: 0.2809 - binary_accuracy: 0.9173 - val_loss: 0.3385 - val_binary_accuracy: 0.8943\n",
      "Epoch 17/25\n",
      "80/80 [==============================] - 12s 157ms/step - loss: 0.2640 - binary_accuracy: 0.9265 - val_loss: 0.3215 - val_binary_accuracy: 0.9006\n",
      "Epoch 18/25\n",
      "80/80 [==============================] - 13s 157ms/step - loss: 0.2476 - binary_accuracy: 0.9314 - val_loss: 0.3260 - val_binary_accuracy: 0.8986\n",
      "Epoch 19/25\n",
      "80/80 [==============================] - 13s 158ms/step - loss: 0.2373 - binary_accuracy: 0.9322 - val_loss: 0.3532 - val_binary_accuracy: 0.8969\n",
      "Epoch 20/25\n",
      "80/80 [==============================] - 13s 158ms/step - loss: 0.2271 - binary_accuracy: 0.9365 - val_loss: 0.3304 - val_binary_accuracy: 0.9018\n",
      "Epoch 21/25\n",
      "80/80 [==============================] - 13s 157ms/step - loss: 0.2149 - binary_accuracy: 0.9437 - val_loss: 0.3817 - val_binary_accuracy: 0.8943\n",
      "Epoch 22/25\n",
      "80/80 [==============================] - 13s 158ms/step - loss: 0.2056 - binary_accuracy: 0.9455 - val_loss: 0.4656 - val_binary_accuracy: 0.8735\n",
      "Epoch 23/25\n",
      "80/80 [==============================] - 13s 158ms/step - loss: 0.2009 - binary_accuracy: 0.9459 - val_loss: 0.3887 - val_binary_accuracy: 0.8907\n",
      "Epoch 24/25\n",
      "80/80 [==============================] - 13s 159ms/step - loss: 0.1879 - binary_accuracy: 0.9480 - val_loss: 0.3988 - val_binary_accuracy: 0.8923\n",
      "Epoch 25/25\n",
      "80/80 [==============================] - 13s 159ms/step - loss: 0.1781 - binary_accuracy: 0.9521 - val_loss: 0.4103 - val_binary_accuracy: 0.8945\n"
     ]
    }
   ],
   "source": [
    "model.compile(\n",
    "    optimizer = tf.keras.optimizers.Adam(),\n",
    "    loss = 'binary_crossentropy',\n",
    "    metrics = ['binary_accuracy']\n",
    ")\n",
    "\n",
    "history = model.fit(\n",
    "    ds_train,\n",
    "    validation_data=ds_valid,\n",
    "    epochs=25,\n",
    ")"
   ]
  },
  {
   "cell_type": "code",
   "execution_count": 5,
   "metadata": {
    "pycharm": {
     "is_executing": true
    }
   },
   "outputs": [
    {
     "data": {
      "image/png": "[encoded data removed]",
      "text/plain": [
       "<Figure size 432x288 with 1 Axes>"
      ]
     },
     "metadata": {
      "needs_background": "light"
     },
     "output_type": "display_data"
    },
    {
     "data": {
      "image/png": "[encoded data removed]",
      "text/plain": [
       "<Figure size 432x288 with 1 Axes>"
      ]
     },
     "metadata": {
      "needs_background": "light"
     },
     "output_type": "display_data"
    }
   ],
   "source": [
    "from IPython.core.display_functions import display\n",
    "import pandas as pd\n",
    "\n",
    "history_frame = pd.DataFrame(history.history)\n",
    "history_frame[['loss','val_loss']].plot()\n",
    "history_frame[['binary_accuracy','val_binary_accuracy']].plot();"
   ]
  },
  {
   "cell_type": "code",
   "execution_count": null,
   "metadata": {},
   "outputs": [],
   "source": []
  }
 ],
 "metadata": {
  "kernelspec": {
   "display_name": "Python 3 (ipykernel)",
   "language": "python",
   "name": "python3"
  },
  "language_info": {
   "codemirror_mode": {
    "name": "ipython",
    "version": 3
   },
   "file_extension": ".py",
   "mimetype": "text/x-python",
   "name": "python",
   "nbconvert_exporter": "python",
   "pygments_lexer": "ipython3",
   "version": "3.10.2"
  }
 },
 "nbformat": 4,
 "nbformat_minor": 1
}