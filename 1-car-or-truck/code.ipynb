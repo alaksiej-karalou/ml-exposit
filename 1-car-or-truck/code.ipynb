{
 "cells": [
  {
   "cell_type": "markdown",
   "metadata": {},
   "source": [
    "# Initializing"
   ]
  },
  {
   "cell_type": "code",
   "execution_count": 1,
   "metadata": {},
   "outputs": [
    {
     "data": {
      "text/plain": [
       "'.\\\\input\\\\valid'"
      ]
     },
     "execution_count": 1,
     "metadata": {},
     "output_type": "execute_result"
    }
   ],
   "source": [
    "import os\n",
    "\n",
    "INPUT_DIR = os.path.join('.', 'input')\n",
    "TRAIN_DIR = os.path.join(INPUT_DIR, 'train')\n",
    "VALID_DIR = os.path.join(INPUT_DIR, 'valid')\n",
    "VALID_DIR"
   ]
  },
  {
   "cell_type": "code",
   "execution_count": 2,
   "metadata": {},
   "outputs": [
    {
     "name": "stdout",
     "output_type": "stream",
     "text": [
      "Found 5117 files belonging to 2 classes.\n",
      "Found 5051 files belonging to 2 classes.\n"
     ]
    }
   ],
   "source": [
    "import tensorflow as tf\n",
    "from tensorflow.keras.utils import image_dataset_from_directory\n",
    "\n",
    "ds_train = image_dataset_from_directory(\n",
    "    'input/train',\n",
    "    labels = 'inferred',\n",
    "    label_mode = 'binary',\n",
    "    image_size = [128, 128],\n",
    "    interpolation = 'nearest',\n",
    "    batch_size = 64,\n",
    "    shuffle = True,\n",
    ").cache()\n",
    "\n",
    "ds_valid = image_dataset_from_directory(\n",
    "    'input/valid',\n",
    "    labels = 'inferred',\n",
    "    label_mode = 'binary',\n",
    "    image_size = [128, 128],\n",
    "    interpolation = 'nearest',\n",
    "    batch_size = 64,\n",
    "    shuffle = False,\n",
    ").cache()"
   ]
  },
  {
   "cell_type": "code",
   "execution_count": 3,
   "metadata": {},
   "outputs": [],
   "source": [
    "import os, warnings\n",
    "import matplotlib.pyplot as plt\n",
    "from matplotlib import gridspec\n",
    "\n",
    "import numpy as np\n",
    "\n",
    "\n",
    "def convert_to_float(image, label):\n",
    "    image = tf.image.convert_image_dtype(image, dtype = tf.float32)\n",
    "    return image, label\n",
    "\n",
    "\n",
    "AUTOTUNE = tf.data.experimental.AUTOTUNE\n",
    "ds_train = (\n",
    "    ds_train\n",
    "        .map(convert_to_float)\n",
    "        .cache()\n",
    "        .prefetch(buffer_size = AUTOTUNE)\n",
    ")\n",
    "ds_valid = (\n",
    "    ds_valid\n",
    "        .map(convert_to_float)\n",
    "        .cache()\n",
    "        .prefetch(buffer_size = AUTOTUNE)\n",
    ")\n"
   ]
  },
  {
   "cell_type": "code",
   "execution_count": 4,
   "metadata": {
    "scrolled": true
   },
   "outputs": [],
   "source": [
    "from tensorflow import keras\n",
    "from tensorflow.keras import layers\n",
    "\n",
    "from tensorflow.keras.layers.experimental import preprocessing\n",
    "\n",
    "model = keras.Sequential([\n",
    "    preprocessing.RandomFlip('horizontal'),\n",
    "    preprocessing.RandomContrast(0.5),\n",
    "    preprocessing.RandomZoom(0.1),\n",
    "\n",
    "    layers.Conv2D(filters = 32, kernel_size = 5, activation = \"relu\", padding = 'same',\n",
    "                  input_shape = [128, 128, 3]),\n",
    "    layers.MaxPool2D(),\n",
    "\n",
    "    layers.Conv2D(filters = 64, kernel_size = 3, activation = \"relu\", padding = 'same'),\n",
    "    layers.MaxPool2D(),\n",
    "\n",
    "    layers.Conv2D(filters = 128, kernel_size = 3, activation = \"relu\", padding = 'same'),\n",
    "    layers.MaxPool2D(),\n",
    "\n",
    "    layers.Conv2D(filters = 256, kernel_size = 3, activation = \"relu\", padding = 'same'),\n",
    "    layers.MaxPool2D(),\n",
    "\n",
    "    layers.Flatten(),\n",
    "    layers.Dense(units = 16, activation = \"relu\"),\n",
    "    layers.Dense(units = 1, activation = \"sigmoid\"),\n",
    "])"
   ]
  },
  {
   "cell_type": "code",
   "execution_count": null,
   "metadata": {},
   "outputs": [
    {
     "name": "stdout",
     "output_type": "stream",
     "text": [
      "Epoch 1/25\n",
      "79/80 [============================>.] - ETA: 0s - loss: 0.6792 - binary_accuracy: 0.5686"
     ]
    }
   ],
   "source": [
    "model.compile(\n",
    "    optimizer = tf.keras.optimizers.Adam(),\n",
    "    loss = 'binary_crossentropy',\n",
    "    metrics = ['binary_accuracy']\n",
    ")\n",
    "\n",
    "history = model.fit(\n",
    "    ds_train,\n",
    "    validation_data = ds_valid,\n",
    "    epochs = 25,\n",
    ")"
   ]
  },
  {
   "cell_type": "code",
   "execution_count": null,
   "metadata": {
    "pycharm": {
     "is_executing": true
    }
   },
   "outputs": [],
   "source": [
    "from IPython.core.display_functions import display\n",
    "import pandas as pd\n",
    "\n",
    "history_frame = pd.DataFrame(history.history)\n",
    "history_frame[['loss', 'val_loss']].plot()\n",
    "history_frame[['binary_accuracy', 'val_binary_accuracy']].plot();"
   ]
  },
  {
   "cell_type": "code",
   "execution_count": null,
   "metadata": {},
   "outputs": [],
   "source": []
  }
 ],
 "metadata": {
  "kernelspec": {
   "display_name": "Python 3 (ipykernel)",
   "language": "python",
   "name": "python3"
  },
  "language_info": {
   "codemirror_mode": {
    "name": "ipython",
    "version": 3
   },
   "file_extension": ".py",
   "mimetype": "text/x-python",
   "name": "python",
   "nbconvert_exporter": "python",
   "pygments_lexer": "ipython3",
   "version": "3.10.2"
  }
 },
 "nbformat": 4,
 "nbformat_minor": 1
}